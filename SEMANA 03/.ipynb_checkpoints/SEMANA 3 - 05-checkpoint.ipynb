{
 "cells": [
  {
   "cell_type": "markdown",
   "id": "480598a6",
   "metadata": {},
   "source": [
    "# SEMANA 3\n",
    "Paolo Jeanpier Fernandez Sotelo"
   ]
  },
  {
   "cell_type": "markdown",
   "id": "6b58ce20",
   "metadata": {},
   "source": [
    "# TEMAS:\n",
    "    1. Números\n",
    "    2. Variables\n",
    "    3. Manejo de Cadenas\n",
    "    4. Ingreso de Datos por Teclado\n",
    "    5. Operadores"
   ]
  },
  {
   "cell_type": "markdown",
   "id": "d58e1edb",
   "metadata": {},
   "source": [
    "5. Operadores"
   ]
  },
  {
   "cell_type": "code",
   "execution_count": 1,
   "id": "79d14b0a",
   "metadata": {},
   "outputs": [],
   "source": [
    "# 5.1 Operadores Aritméticos\n",
    "# Se tiene: +, -, *, /, **, %, //"
   ]
  },
  {
   "cell_type": "code",
   "execution_count": 9,
   "id": "dd087cad",
   "metadata": {},
   "outputs": [
    {
     "name": "stdout",
     "output_type": "stream",
     "text": [
      "Suma: 13\n",
      "Resta: 7\n",
      "Multiplicación: 30\n",
      "División: 3.3333333333333335\n",
      "Residuo: 1\n",
      "Cociente: 3\n",
      "Potencia: 1000\n"
     ]
    }
   ],
   "source": [
    "numero1 = 10\n",
    "numero2 = 3\n",
    "\n",
    "suma = numero1 + numero2\n",
    "resta = numero1 - numero2\n",
    "multiplicacion = numero1 * numero2\n",
    "division = numero1 / numero2\n",
    "residuo = numero1 % numero2\n",
    "cociente = numero1 // numero2\n",
    "potencia = numero1 ** numero2\n",
    "\n",
    "print(f\"Suma: {suma}\\n\" + \n",
    "      f\"Resta: {resta}\\n\" +\n",
    "      f\"Multiplicación: {multiplicacion}\\n\" +\n",
    "      f\"División: {division}\\n\" +\n",
    "      f\"Residuo: {residuo}\\n\" +\n",
    "      f\"Cociente: {cociente}\\n\" +\n",
    "      f\"Potencia: {potencia}\")\n"
   ]
  },
  {
   "cell_type": "code",
   "execution_count": 10,
   "id": "fa876329",
   "metadata": {},
   "outputs": [],
   "source": [
    "# 5.2 Operadores de Asignación\n",
    "# Se tiene: =, +=, -=,*=, /=, **="
   ]
  },
  {
   "cell_type": "code",
   "execution_count": 11,
   "id": "78d449c7",
   "metadata": {},
   "outputs": [
    {
     "name": "stdout",
     "output_type": "stream",
     "text": [
      "8\n"
     ]
    }
   ],
   "source": [
    "numero = 5\n",
    "numero = numero + 3\n",
    "\n",
    "print(numero)"
   ]
  },
  {
   "cell_type": "code",
   "execution_count": 13,
   "id": "fcf7f20b",
   "metadata": {},
   "outputs": [
    {
     "name": "stdout",
     "output_type": "stream",
     "text": [
      "8\n"
     ]
    }
   ],
   "source": [
    "# La operación anterior también se puede expresar de la siguiente manera:\n",
    "\n",
    "numero = 5\n",
    "numero += 3\n",
    "\n",
    "print(numero)"
   ]
  },
  {
   "cell_type": "code",
   "execution_count": 14,
   "id": "4bc542da",
   "metadata": {},
   "outputs": [
    {
     "name": "stdout",
     "output_type": "stream",
     "text": [
      "125\n",
      "125\n"
     ]
    }
   ],
   "source": [
    "# Lo mismo puede suceder con el operador de potencia\n",
    "\n",
    "numero = 5\n",
    "numero = numero **3\n",
    "\n",
    "print(numero)\n",
    "\n",
    "numero = 5\n",
    "numero **= 3\n",
    "\n",
    "print(numero)"
   ]
  },
  {
   "cell_type": "code",
   "execution_count": 15,
   "id": "c29075c3",
   "metadata": {},
   "outputs": [],
   "source": [
    "# 5.3 Operadores de Comparación\n",
    "# Se tiene: ==, !=, <, >, <=, >="
   ]
  },
  {
   "cell_type": "code",
   "execution_count": 16,
   "id": "ac36bb35",
   "metadata": {},
   "outputs": [
    {
     "data": {
      "text/plain": [
       "False"
      ]
     },
     "execution_count": 16,
     "metadata": {},
     "output_type": "execute_result"
    }
   ],
   "source": [
    "# Ejemplo de igualdad ==:\n",
    "\n",
    "numero1 = 5\n",
    "numero2 = 2\n",
    "\n",
    "numero1 == numero2"
   ]
  },
  {
   "cell_type": "code",
   "execution_count": 21,
   "id": "ac5378ca",
   "metadata": {},
   "outputs": [
    {
     "data": {
      "text/plain": [
       "True"
      ]
     },
     "execution_count": 21,
     "metadata": {},
     "output_type": "execute_result"
    }
   ],
   "source": [
    "# De igual forma con las cadenas:\n",
    "\n",
    "nombre1 = \"Juan\"\n",
    "nombre2 = \"Juan\"\n",
    "\n",
    "nombre1 == nombre2"
   ]
  },
  {
   "cell_type": "code",
   "execution_count": 22,
   "id": "ce4ca095",
   "metadata": {},
   "outputs": [],
   "source": [
    "# 5.4 Operadores Lógicos\n",
    "# Se tiene: && (and), || (or), not"
   ]
  },
  {
   "cell_type": "code",
   "execution_count": 23,
   "id": "4511c749",
   "metadata": {},
   "outputs": [
    {
     "data": {
      "text/plain": [
       "True"
      ]
     },
     "execution_count": 23,
     "metadata": {},
     "output_type": "execute_result"
    }
   ],
   "source": [
    "numero1 = 5\n",
    "numero2 = 6\n",
    "numero3 = 7\n",
    "numero4 = 8\n",
    "\n",
    "numero1 < numero2"
   ]
  },
  {
   "cell_type": "code",
   "execution_count": 25,
   "id": "93c7f108",
   "metadata": {},
   "outputs": [
    {
     "data": {
      "text/plain": [
       "False"
      ]
     },
     "execution_count": 25,
     "metadata": {},
     "output_type": "execute_result"
    }
   ],
   "source": [
    "# El not invierte el resultado\n",
    "\n",
    "not(numero1 < numero2)"
   ]
  },
  {
   "cell_type": "code",
   "execution_count": 26,
   "id": "375079d1",
   "metadata": {},
   "outputs": [
    {
     "data": {
      "text/plain": [
       "True"
      ]
     },
     "execution_count": 26,
     "metadata": {},
     "output_type": "execute_result"
    }
   ],
   "source": [
    "numero1 < numero2 and numero3 < numero4"
   ]
  },
  {
   "cell_type": "code",
   "execution_count": 27,
   "id": "04bbd069",
   "metadata": {},
   "outputs": [
    {
     "data": {
      "text/plain": [
       "True"
      ]
     },
     "execution_count": 27,
     "metadata": {},
     "output_type": "execute_result"
    }
   ],
   "source": [
    "# Se pueden utilizar paréntesis para ordenar las operaciones:\n",
    "\n",
    "(numero1 < numero2 and numero3 < numero4) or (numero3 > numero4)"
   ]
  },
  {
   "cell_type": "code",
   "execution_count": 28,
   "id": "7eef027b",
   "metadata": {},
   "outputs": [],
   "source": [
    "# 5.5 Operadores de Pertenencia\n",
    "# Se tiene: in, not in"
   ]
  },
  {
   "cell_type": "code",
   "execution_count": 31,
   "id": "db73f27b",
   "metadata": {},
   "outputs": [
    {
     "data": {
      "text/plain": [
       "False"
      ]
     },
     "execution_count": 31,
     "metadata": {},
     "output_type": "execute_result"
    }
   ],
   "source": [
    "# Ejemplo:\n",
    "\n",
    "aula = [\"Juan\", \"Daniel\", \"Rubén\"]\n",
    "\n",
    "alumno1 = \"Diego\"\n",
    "alumno2 = \"Juan\"\n",
    "\n",
    "# ¿El alumno Diego está en el aula?\n",
    "\n",
    "alumno1 in aula"
   ]
  },
  {
   "cell_type": "code",
   "execution_count": 32,
   "id": "a29f2097",
   "metadata": {},
   "outputs": [
    {
     "data": {
      "text/plain": [
       "True"
      ]
     },
     "execution_count": 32,
     "metadata": {},
     "output_type": "execute_result"
    }
   ],
   "source": [
    "# ¿El Juan está en el aula?\n",
    "\n",
    "alumno2 in aula"
   ]
  },
  {
   "cell_type": "code",
   "execution_count": 33,
   "id": "7875a5f1",
   "metadata": {},
   "outputs": [
    {
     "data": {
      "text/plain": [
       "True"
      ]
     },
     "execution_count": 33,
     "metadata": {},
     "output_type": "execute_result"
    }
   ],
   "source": [
    "# ¿El alumno Diego no está en el aula?\n",
    "\n",
    "alumno1 not in aula"
   ]
  },
  {
   "cell_type": "code",
   "execution_count": 34,
   "id": "2bb83a1c",
   "metadata": {},
   "outputs": [
    {
     "data": {
      "text/plain": [
       "False"
      ]
     },
     "execution_count": 34,
     "metadata": {},
     "output_type": "execute_result"
    }
   ],
   "source": [
    "# ¿El alumno Juan no está en el aula?\n",
    "\n",
    "alumno2 not in aula"
   ]
  },
  {
   "cell_type": "code",
   "execution_count": 35,
   "id": "505bdaec",
   "metadata": {},
   "outputs": [],
   "source": [
    "# 5.6 Operadores de Identidad\n",
    "# Se tiene: is, is not"
   ]
  },
  {
   "cell_type": "code",
   "execution_count": 38,
   "id": "7c13a43f",
   "metadata": {},
   "outputs": [],
   "source": [
    "aula1 = [\"Juan\", \"Daniel\", \"Rubén\"]\n",
    "aula2 = [\"Juan\", \"Daniel\", \"Rubén\"]\n",
    "\n",
    "# A continuación, vamos a indicar que aula3 va a compartir el mismo objeto que aula1\n",
    "\n",
    "aula3 = aula1"
   ]
  },
  {
   "cell_type": "code",
   "execution_count": 39,
   "id": "ea02f2e8",
   "metadata": {},
   "outputs": [
    {
     "data": {
      "text/plain": [
       "True"
      ]
     },
     "execution_count": 39,
     "metadata": {},
     "output_type": "execute_result"
    }
   ],
   "source": [
    "# ¿aula3 comparte el mismo objeto que aula1?\n",
    "\n",
    "aula3 is aula1"
   ]
  },
  {
   "cell_type": "code",
   "execution_count": 40,
   "id": "ea869385",
   "metadata": {},
   "outputs": [
    {
     "data": {
      "text/plain": [
       "False"
      ]
     },
     "execution_count": 40,
     "metadata": {},
     "output_type": "execute_result"
    }
   ],
   "source": [
    "# ¿aula3 comparte el mismo objeto que aula2?\n",
    "\n",
    "aula3 is aula2"
   ]
  },
  {
   "cell_type": "code",
   "execution_count": 41,
   "id": "0abc5de0",
   "metadata": {},
   "outputs": [],
   "source": [
    "aula1.append(\"Diego\")"
   ]
  },
  {
   "cell_type": "code",
   "execution_count": 43,
   "id": "acb81513",
   "metadata": {},
   "outputs": [
    {
     "name": "stdout",
     "output_type": "stream",
     "text": [
      "['Juan', 'Daniel', 'Rubén', 'Diego']\n"
     ]
    }
   ],
   "source": [
    "# Al imprimir los elementos de la lista aula1 se observa:\n",
    "\n",
    "print(aula1)"
   ]
  },
  {
   "cell_type": "code",
   "execution_count": 44,
   "id": "8c88d7aa",
   "metadata": {},
   "outputs": [
    {
     "name": "stdout",
     "output_type": "stream",
     "text": [
      "['Juan', 'Daniel', 'Rubén', 'Diego']\n"
     ]
    }
   ],
   "source": [
    "# Al imprimir los elementos de la lista aula3 se observa:\n",
    "\n",
    "print(aula3)"
   ]
  },
  {
   "cell_type": "code",
   "execution_count": 45,
   "id": "e9a95647",
   "metadata": {},
   "outputs": [
    {
     "name": "stdout",
     "output_type": "stream",
     "text": [
      "['Juan', 'Daniel', 'Rubén']\n"
     ]
    }
   ],
   "source": [
    "# Al imprimir los elementos de la lista aula2 se observa:\n",
    "\n",
    "print(aula2)"
   ]
  },
  {
   "cell_type": "code",
   "execution_count": null,
   "id": "21eda8bf",
   "metadata": {},
   "outputs": [],
   "source": []
  }
 ],
 "metadata": {
  "kernelspec": {
   "display_name": "Python 3 (ipykernel)",
   "language": "python",
   "name": "python3"
  },
  "language_info": {
   "codemirror_mode": {
    "name": "ipython",
    "version": 3
   },
   "file_extension": ".py",
   "mimetype": "text/x-python",
   "name": "python",
   "nbconvert_exporter": "python",
   "pygments_lexer": "ipython3",
   "version": "3.9.12"
  }
 },
 "nbformat": 4,
 "nbformat_minor": 5
}
