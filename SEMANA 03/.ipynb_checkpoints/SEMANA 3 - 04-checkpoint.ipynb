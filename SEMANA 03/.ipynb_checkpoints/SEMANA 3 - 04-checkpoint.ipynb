{
 "cells": [
  {
   "cell_type": "markdown",
   "id": "4eb354f5",
   "metadata": {},
   "source": [
    "# SEMANA 3\n",
    "Paolo Jeanpier Fernandez Sotelo"
   ]
  },
  {
   "cell_type": "markdown",
   "id": "dbe79dbd",
   "metadata": {},
   "source": [
    "# TEMAS:\n",
    "    1. Números\n",
    "    2. Variables\n",
    "    3. Manejo de Cadenas\n",
    "    4. Ingreso de Datos por Teclado\n",
    "    5. Operadores"
   ]
  },
  {
   "cell_type": "markdown",
   "id": "9b74963b",
   "metadata": {},
   "source": [
    "4. Ingreso de Datos por Teclado"
   ]
  },
  {
   "cell_type": "code",
   "execution_count": 5,
   "id": "e95bacac",
   "metadata": {},
   "outputs": [
    {
     "name": "stdout",
     "output_type": "stream",
     "text": [
      "¿Cuál es tu nombre?\n",
      "Paolo\n",
      "Hola Paolo\n"
     ]
    }
   ],
   "source": [
    "# Función input()\n",
    "\n",
    "print(\"¿Cuál es tu nombre?\")\n",
    "nombre = input()\n",
    "\n",
    "print(f\"Hola {nombre}\")"
   ]
  },
  {
   "cell_type": "code",
   "execution_count": 8,
   "id": "08c17515",
   "metadata": {},
   "outputs": [
    {
     "name": "stdout",
     "output_type": "stream",
     "text": [
      "numero 1: \n",
      "5\n",
      "numero 2: \n",
      "12\n",
      "El resultado es 17\n"
     ]
    }
   ],
   "source": [
    "# Al ingresar algun dato por teclado, mientras no se especifique su tipo, se considerará una cadena (string)\n",
    "\n",
    "print(\"numero 1: \")\n",
    "numero = input()\n",
    "\n",
    "print(\"numero 2: \")\n",
    "numero2 = input()\n",
    "\n",
    "numero3 = int(numero) + int(numero2)\n",
    "\n",
    "print(f\"El resultado es {numero3}\")"
   ]
  },
  {
   "cell_type": "code",
   "execution_count": null,
   "id": "cdfea157",
   "metadata": {},
   "outputs": [],
   "source": []
  }
 ],
 "metadata": {
  "kernelspec": {
   "display_name": "Python 3 (ipykernel)",
   "language": "python",
   "name": "python3"
  },
  "language_info": {
   "codemirror_mode": {
    "name": "ipython",
    "version": 3
   },
   "file_extension": ".py",
   "mimetype": "text/x-python",
   "name": "python",
   "nbconvert_exporter": "python",
   "pygments_lexer": "ipython3",
   "version": "3.9.12"
  }
 },
 "nbformat": 4,
 "nbformat_minor": 5
}
