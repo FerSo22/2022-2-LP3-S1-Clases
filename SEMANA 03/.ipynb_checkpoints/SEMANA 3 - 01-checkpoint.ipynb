{
 "cells": [
  {
   "cell_type": "markdown",
   "id": "718b1dd3",
   "metadata": {},
   "source": [
    "# SEMANA 3\n",
    "Paolo Jeanpier Fernandez Sotelo"
   ]
  },
  {
   "cell_type": "markdown",
   "id": "9107c901",
   "metadata": {},
   "source": [
    "# Temas:\n",
    "    1. Números\n",
    "    2. Variables\n",
    "    3. Manejo de Cadenas\n",
    "    4. Ingreso de Datos por Teclado\n",
    "    5. Operadores"
   ]
  },
  {
   "cell_type": "markdown",
   "id": "5cb3e5d6",
   "metadata": {
    "scrolled": false
   },
   "source": [
    "1. Números"
   ]
  },
  {
   "cell_type": "code",
   "execution_count": 6,
   "id": "222c8be4",
   "metadata": {},
   "outputs": [
    {
     "data": {
      "text/plain": [
       "0.625"
      ]
     },
     "execution_count": 6,
     "metadata": {},
     "output_type": "execute_result"
    }
   ],
   "source": [
    "5/8"
   ]
  },
  {
   "cell_type": "code",
   "execution_count": 7,
   "id": "36f1ac96",
   "metadata": {},
   "outputs": [
    {
     "data": {
      "text/plain": [
       "3.0"
      ]
     },
     "execution_count": 7,
     "metadata": {},
     "output_type": "execute_result"
    }
   ],
   "source": [
    "9/3"
   ]
  },
  {
   "cell_type": "code",
   "execution_count": null,
   "id": "a8c9595e",
   "metadata": {},
   "outputs": [],
   "source": []
  }
 ],
 "metadata": {
  "kernelspec": {
   "display_name": "Python 3 (ipykernel)",
   "language": "python",
   "name": "python3"
  },
  "language_info": {
   "codemirror_mode": {
    "name": "ipython",
    "version": 3
   },
   "file_extension": ".py",
   "mimetype": "text/x-python",
   "name": "python",
   "nbconvert_exporter": "python",
   "pygments_lexer": "ipython3",
   "version": "3.9.12"
  }
 },
 "nbformat": 4,
 "nbformat_minor": 5
}
