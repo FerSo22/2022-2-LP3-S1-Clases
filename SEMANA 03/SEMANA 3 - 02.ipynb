{
 "cells": [
  {
   "cell_type": "markdown",
   "id": "7ce8c640",
   "metadata": {},
   "source": [
    "# SEMANA 3\n",
    "Paolo Jeanpier Fernandez Sotelo"
   ]
  },
  {
   "cell_type": "markdown",
   "id": "29dc3a86",
   "metadata": {},
   "source": [
    "# TEMAS:\n",
    "    1. Números\n",
    "    2. Variables\n",
    "    3. Manejo de Cadenas\n",
    "    4. Ingreso de Datos por Teclado\n",
    "    5. Operadores"
   ]
  },
  {
   "cell_type": "markdown",
   "id": "5f97f567",
   "metadata": {},
   "source": [
    "2. Variables"
   ]
  },
  {
   "cell_type": "code",
   "execution_count": 1,
   "id": "d92b07c8",
   "metadata": {},
   "outputs": [
    {
     "name": "stdout",
     "output_type": "stream",
     "text": [
      "Paolo Fernandez Sotelo\n"
     ]
    }
   ],
   "source": [
    "nombre = \"Paolo\"\n",
    "apellidos = \"Fernandez Sotelo\"\n",
    "\n",
    "nombreCompleto = nombre + \" \" + apellidos\n",
    "\n",
    "print(nombreCompleto)"
   ]
  },
  {
   "cell_type": "code",
   "execution_count": 2,
   "id": "40466545",
   "metadata": {},
   "outputs": [
    {
     "data": {
      "text/plain": [
       "int"
      ]
     },
     "execution_count": 2,
     "metadata": {},
     "output_type": "execute_result"
    }
   ],
   "source": [
    "# Se utiliza la función type() para obtener el tipo de variable\n",
    "\n",
    "numero = 50\n",
    "type(numero)"
   ]
  },
  {
   "cell_type": "code",
   "execution_count": 3,
   "id": "1c5f1927",
   "metadata": {},
   "outputs": [
    {
     "data": {
      "text/plain": [
       "float"
      ]
     },
     "execution_count": 3,
     "metadata": {},
     "output_type": "execute_result"
    }
   ],
   "source": [
    "talla = 1.65\n",
    "type(talla)"
   ]
  },
  {
   "cell_type": "code",
   "execution_count": 4,
   "id": "75bed7fa",
   "metadata": {},
   "outputs": [
    {
     "data": {
      "text/plain": [
       "'100'"
      ]
     },
     "execution_count": 4,
     "metadata": {},
     "output_type": "execute_result"
    }
   ],
   "source": [
    "# Se utiliza la función str() para convertir un número a una cadena\n",
    "\n",
    "numero = 100\n",
    "cadena = str(100)\n",
    "\n",
    "cadena"
   ]
  },
  {
   "cell_type": "code",
   "execution_count": 5,
   "id": "b5069147",
   "metadata": {},
   "outputs": [
    {
     "data": {
      "text/plain": [
       "str"
      ]
     },
     "execution_count": 5,
     "metadata": {},
     "output_type": "execute_result"
    }
   ],
   "source": [
    "type(cadena)"
   ]
  },
  {
   "cell_type": "code",
   "execution_count": 6,
   "id": "83e92660",
   "metadata": {},
   "outputs": [
    {
     "name": "stdout",
     "output_type": "stream",
     "text": [
      "100\n"
     ]
    }
   ],
   "source": [
    "print(cadena)"
   ]
  },
  {
   "cell_type": "code",
   "execution_count": 8,
   "id": "41ac4f3f",
   "metadata": {},
   "outputs": [
    {
     "data": {
      "text/plain": [
       "50"
      ]
     },
     "execution_count": 8,
     "metadata": {},
     "output_type": "execute_result"
    }
   ],
   "source": [
    "# Se utiliza la función int() para convertir una cadena a un entero\n",
    "\n",
    "cadena2 = \"50\"\n",
    "numero2 = int(cadena2)\n",
    "\n",
    "numero2"
   ]
  },
  {
   "cell_type": "code",
   "execution_count": 9,
   "id": "8b431533",
   "metadata": {},
   "outputs": [
    {
     "data": {
      "text/plain": [
       "int"
      ]
     },
     "execution_count": 9,
     "metadata": {},
     "output_type": "execute_result"
    }
   ],
   "source": [
    "type(numero2)"
   ]
  },
  {
   "cell_type": "code",
   "execution_count": 11,
   "id": "4dbf50fd",
   "metadata": {},
   "outputs": [
    {
     "data": {
      "text/plain": [
       "3.14159"
      ]
     },
     "execution_count": 11,
     "metadata": {},
     "output_type": "execute_result"
    }
   ],
   "source": [
    "# Dependendiendo del tipo de variable que necesitemos, se puede realizar un \"casteo\", por ejemplo, para convertir una \n",
    "# cadena a un flotante utilizamos la función float()\n",
    "\n",
    "cadena3 = \"3.14\"\n",
    "numero3 = float(cadena3)\n",
    "\n",
    "numero3"
   ]
  },
  {
   "cell_type": "code",
   "execution_count": 12,
   "id": "f121401b",
   "metadata": {},
   "outputs": [
    {
     "data": {
      "text/plain": [
       "float"
      ]
     },
     "execution_count": 12,
     "metadata": {},
     "output_type": "execute_result"
    }
   ],
   "source": [
    "type(numero3)"
   ]
  },
  {
   "cell_type": "code",
   "execution_count": null,
   "id": "34d3437a",
   "metadata": {},
   "outputs": [],
   "source": []
  }
 ],
 "metadata": {
  "kernelspec": {
   "display_name": "Python 3 (ipykernel)",
   "language": "python",
   "name": "python3"
  },
  "language_info": {
   "codemirror_mode": {
    "name": "ipython",
    "version": 3
   },
   "file_extension": ".py",
   "mimetype": "text/x-python",
   "name": "python",
   "nbconvert_exporter": "python",
   "pygments_lexer": "ipython3",
   "version": "3.9.12"
  }
 },
 "nbformat": 4,
 "nbformat_minor": 5
}
