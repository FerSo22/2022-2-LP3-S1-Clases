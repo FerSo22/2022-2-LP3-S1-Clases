{
 "cells": [
  {
   "cell_type": "markdown",
   "id": "59dda6ba",
   "metadata": {},
   "source": [
    "# SEMANA 3\n",
    "Paolo Jeanpier Fernandez Sotelo"
   ]
  },
  {
   "cell_type": "markdown",
   "id": "39cc7a0c",
   "metadata": {},
   "source": [
    "# TEMAS:\n",
    "    1. Colecciones de Datos\n",
    "    2. Estructuras Decisivas y Estructuras Repetitivas en Python\n",
    "    3. Clases y Objetos\n",
    "    4. Funciones"
   ]
  },
  {
   "cell_type": "markdown",
   "id": "c8702671",
   "metadata": {},
   "source": [
    "1. Colecciones de Datos"
   ]
  },
  {
   "cell_type": "code",
   "execution_count": 1,
   "id": "2e1d8ef7",
   "metadata": {},
   "outputs": [],
   "source": [
    "# 1.1 Listas\n",
    "# Es una colección de elementos que puede ser ordenada, modificada, etc\n",
    "# Se identifica por los corchetes\n",
    "# Ejemplo:\n",
    "\n",
    "aula = [\"Silvestre\", \"Uñapilco\", \"Bravo\", \"Alagón\"]"
   ]
  },
  {
   "cell_type": "code",
   "execution_count": 2,
   "id": "cb89a3db",
   "metadata": {},
   "outputs": [
    {
     "name": "stdout",
     "output_type": "stream",
     "text": [
      "Silvestre\n",
      "Uñapilco\n"
     ]
    }
   ],
   "source": [
    "# Se puede extraer cada elemento por su posición:\n",
    "\n",
    "print(aula[0])\n",
    "print(aula[1])"
   ]
  },
  {
   "cell_type": "code",
   "execution_count": 3,
   "id": "2ca1ad67",
   "metadata": {},
   "outputs": [
    {
     "data": {
      "text/plain": [
       "'Chávez'"
      ]
     },
     "execution_count": 3,
     "metadata": {},
     "output_type": "execute_result"
    }
   ],
   "source": [
    "# Se puede asignar un nuevo valor a cada elemento por su posición:\n",
    "\n",
    "aula[1] = \"Chávez\"\n",
    "aula[1]"
   ]
  },
  {
   "cell_type": "code",
   "execution_count": 4,
   "id": "b86a3430",
   "metadata": {},
   "outputs": [
    {
     "data": {
      "text/plain": [
       "['Silvestre', 'Chávez', 'Bravo', 'Alagón']"
      ]
     },
     "execution_count": 4,
     "metadata": {},
     "output_type": "execute_result"
    }
   ],
   "source": [
    "# Mostramos como quedó la lista:\n",
    "\n",
    "aula"
   ]
  },
  {
   "cell_type": "code",
   "execution_count": 5,
   "id": "196607a1",
   "metadata": {},
   "outputs": [
    {
     "data": {
      "text/plain": [
       "['Silvestre', 'Chávez', 'Bravo', 'Alagón', 'Navarro', 'Bravo']"
      ]
     },
     "execution_count": 5,
     "metadata": {},
     "output_type": "execute_result"
    }
   ],
   "source": [
    "# Para agregar un nuevo elemento utilizamos .append()\n",
    "\n",
    "aula.append(\"Navarro\")\n",
    "aula.append(\"Bravo\")\n",
    "\n",
    "aula"
   ]
  },
  {
   "cell_type": "code",
   "execution_count": 6,
   "id": "dc824a86",
   "metadata": {},
   "outputs": [],
   "source": [
    "# Para eliminar elementos utilizamos .remove()\n",
    "\n",
    "aula.remove(\"Bravo\")"
   ]
  },
  {
   "cell_type": "code",
   "execution_count": 8,
   "id": "ff654e29",
   "metadata": {},
   "outputs": [
    {
     "data": {
      "text/plain": [
       "['Silvestre', 'Chávez', 'Alagón', 'Navarro', 'Bravo']"
      ]
     },
     "execution_count": 8,
     "metadata": {},
     "output_type": "execute_result"
    }
   ],
   "source": [
    "# Al haber un elemento que se repite, se elimina la primera coincidencia (el elemento de la posición más cercana al cero)\n",
    "\n",
    "aula"
   ]
  },
  {
   "cell_type": "code",
   "execution_count": 9,
   "id": "53e856ce",
   "metadata": {},
   "outputs": [
    {
     "data": {
      "text/plain": [
       "5"
      ]
     },
     "execution_count": 9,
     "metadata": {},
     "output_type": "execute_result"
    }
   ],
   "source": [
    "# Para obtener el tamaño de la lista utilizamos len()\n",
    "\n",
    "len(aula)"
   ]
  },
  {
   "cell_type": "code",
   "execution_count": 10,
   "id": "246f5854",
   "metadata": {},
   "outputs": [
    {
     "name": "stdout",
     "output_type": "stream",
     "text": [
      "Silvestre\n",
      "Chávez\n",
      "Alagón\n",
      "Navarro\n",
      "Bravo\n"
     ]
    }
   ],
   "source": [
    "# Para recorrer la lista podemos utilizar una estructura repetitiva for:\n",
    "\n",
    "for alumno in aula:\n",
    "    print(alumno)"
   ]
  },
  {
   "cell_type": "code",
   "execution_count": 11,
   "id": "bc6bcfd0",
   "metadata": {},
   "outputs": [
    {
     "data": {
      "text/plain": [
       "['Bravo', 'Navarro', 'Alagón', 'Chávez', 'Silvestre']"
      ]
     },
     "execution_count": 11,
     "metadata": {},
     "output_type": "execute_result"
    }
   ],
   "source": [
    "# Para invertir la lista utilizamos .reverse()\n",
    "# OJO: invertir no significa ordenar en forma ascendente, sino invertir la lista\n",
    "\n",
    "aula.reverse()\n",
    "\n",
    "aula"
   ]
  },
  {
   "cell_type": "code",
   "execution_count": 12,
   "id": "010b1c94",
   "metadata": {},
   "outputs": [
    {
     "data": {
      "text/plain": [
       "['Alagón', 'Bravo', 'Chávez', 'Navarro', 'Silvestre']"
      ]
     },
     "execution_count": 12,
     "metadata": {},
     "output_type": "execute_result"
    }
   ],
   "source": [
    "# Para ordenar la lista utilizamos .sort()\n",
    "\n",
    "aula.sort()\n",
    "\n",
    "aula"
   ]
  },
  {
   "cell_type": "code",
   "execution_count": 13,
   "id": "6390b959",
   "metadata": {},
   "outputs": [
    {
     "data": {
      "text/plain": [
       "('Silvestre', 'Chávez', 'Bravo', 'Alagón')"
      ]
     },
     "execution_count": 13,
     "metadata": {},
     "output_type": "execute_result"
    }
   ],
   "source": [
    "# 1.2 Túplas\n",
    "# Es una colección de elementos ordenada (es decir, que tienen un índice que no se puede modificar, es inalterable)\n",
    "# No se pueden agregar elementos ni eliminar\n",
    "# Se identifican por los paréntesis\n",
    "\n",
    "tupla_aula = (\"Silvestre\", \"Chávez\", \"Bravo\", \"Alagón\")\n",
    "\n",
    "tupla_aula"
   ]
  },
  {
   "cell_type": "code",
   "execution_count": 15,
   "id": "4e998e3c",
   "metadata": {},
   "outputs": [
    {
     "name": "stdout",
     "output_type": "stream",
     "text": [
      "Silvestre\n",
      "Chávez\n",
      "Bravo\n",
      "Alagón\n"
     ]
    }
   ],
   "source": [
    "# Se puede recorrer con una estructura for:\n",
    "\n",
    "for alumno in tupla_aula:\n",
    "    print(alumno)"
   ]
  },
  {
   "cell_type": "code",
   "execution_count": 18,
   "id": "90485c92",
   "metadata": {},
   "outputs": [
    {
     "data": {
      "text/plain": [
       "'Bravo'"
      ]
     },
     "execution_count": 18,
     "metadata": {},
     "output_type": "execute_result"
    }
   ],
   "source": [
    "# Se puede extraer un elemento por su posición\n",
    "tupla_aula[2]"
   ]
  },
  {
   "cell_type": "code",
   "execution_count": 19,
   "id": "f048d789",
   "metadata": {},
   "outputs": [
    {
     "data": {
      "text/plain": [
       "4"
      ]
     },
     "execution_count": 19,
     "metadata": {},
     "output_type": "execute_result"
    }
   ],
   "source": [
    "# Para obtener el tamaño de nuestra túpla, utilizamos len()\n",
    "\n",
    "len(tupla_aula)"
   ]
  },
  {
   "cell_type": "code",
   "execution_count": 22,
   "id": "4d0ec52c",
   "metadata": {},
   "outputs": [
    {
     "data": {
      "text/plain": [
       "{'Alagón', 'Bravo', 'Chávez', 'Silvestre'}"
      ]
     },
     "execution_count": 22,
     "metadata": {},
     "output_type": "execute_result"
    }
   ],
   "source": [
    "# 1.3 Conjuntos\n",
    "# Colección de elementos que no está ordenada (es decir, que no presentan índices)\n",
    "# Se identifican por las llaves\n",
    "\n",
    "conjunto_aula = {\"Silvestre\", \"Chávez\", \"Bravo\", \"Alagón\"}\n",
    "\n",
    "conjunto_aula"
   ]
  },
  {
   "cell_type": "code",
   "execution_count": 24,
   "id": "ae300d66",
   "metadata": {},
   "outputs": [
    {
     "name": "stdout",
     "output_type": "stream",
     "text": [
      "Bravo\n",
      "Chávez\n",
      "Alagón\n",
      "Silvestre\n"
     ]
    }
   ],
   "source": [
    "# Se puede recorrer utilizando una estructura for:\n",
    "\n",
    "for alumno in conjunto_aula:\n",
    "    print(alumno)"
   ]
  },
  {
   "cell_type": "code",
   "execution_count": 25,
   "id": "5e176573",
   "metadata": {},
   "outputs": [
    {
     "ename": "TypeError",
     "evalue": "'set' object is not subscriptable",
     "output_type": "error",
     "traceback": [
      "\u001b[1;31m---------------------------------------------------------------------------\u001b[0m",
      "\u001b[1;31mTypeError\u001b[0m                                 Traceback (most recent call last)",
      "Input \u001b[1;32mIn [25]\u001b[0m, in \u001b[0;36m<cell line: 2>\u001b[1;34m()\u001b[0m\n\u001b[0;32m      1\u001b[0m \u001b[38;5;66;03m# OBSERVACIÓN: No se puede acceder a algún elemento por su posición\u001b[39;00m\n\u001b[1;32m----> 2\u001b[0m \u001b[43mconjunto_aula\u001b[49m\u001b[43m[\u001b[49m\u001b[38;5;241;43m2\u001b[39;49m\u001b[43m]\u001b[49m\n",
      "\u001b[1;31mTypeError\u001b[0m: 'set' object is not subscriptable"
     ]
    }
   ],
   "source": [
    "# OBSERVACIÓN: No se puede acceder a algún elemento por su posición, pues no considera indexación\n",
    "# Por ejemplo, lo siguiente nos devuelve un mensaje de error\n",
    "\n",
    "conjunto_aula[2]"
   ]
  },
  {
   "cell_type": "code",
   "execution_count": 26,
   "id": "b8368064",
   "metadata": {},
   "outputs": [
    {
     "data": {
      "text/plain": [
       "4"
      ]
     },
     "execution_count": 26,
     "metadata": {},
     "output_type": "execute_result"
    }
   ],
   "source": [
    "# Para obtener la cantidad de elementos de nuestro conjunto, utilizamos len()\n",
    "\n",
    "len(conjunto_aula)"
   ]
  },
  {
   "cell_type": "code",
   "execution_count": 27,
   "id": "6c0d9478",
   "metadata": {},
   "outputs": [
    {
     "data": {
      "text/plain": [
       "{'Alagón', 'Bravo', 'Chávez', 'Palomino', 'Silvestre'}"
      ]
     },
     "execution_count": 27,
     "metadata": {},
     "output_type": "execute_result"
    }
   ],
   "source": [
    "# Para agregar elementos a nuestro conjunto utilizamos .add()\n",
    "\n",
    "conjunto_aula.add(\"Palomino\")\n",
    "\n",
    "conjunto_aula"
   ]
  },
  {
   "cell_type": "code",
   "execution_count": 28,
   "id": "d14340d2",
   "metadata": {},
   "outputs": [
    {
     "data": {
      "text/plain": [
       "{2: 'Alagón', '1': 'Bravo', 'dos': 'Chávez', '3': 'Palomino', '0': 'Silvestre'}"
      ]
     },
     "execution_count": 28,
     "metadata": {},
     "output_type": "execute_result"
    }
   ],
   "source": [
    "# 1.4 Diccionarios\n",
    "# Colección de elementos indexados pero no ordenados y que se pueden modificar\n",
    "# Son escritos entre llaves y están formados por pares de elementos {INDICE: VALOR}}\n",
    "\n",
    "diccionario_aula = {2: \"Alagón\", \"1\": \"Bravo\", \"dos\": \"Chávez\", \"3\": \"Palomino\", \"0\": \"Silvestre\"}\n",
    "\n",
    "diccionario_aula"
   ]
  },
  {
   "cell_type": "code",
   "execution_count": 31,
   "id": "3f9c8e75",
   "metadata": {},
   "outputs": [
    {
     "data": {
      "text/plain": [
       "'Silvestre'"
      ]
     },
     "execution_count": 31,
     "metadata": {},
     "output_type": "execute_result"
    }
   ],
   "source": [
    "# Del diccionario \"diccionario_aula\", extraer el valor cuyo índice sea cero en String\n",
    "\n",
    "diccionario_aula[\"0\"]"
   ]
  },
  {
   "cell_type": "code",
   "execution_count": 32,
   "id": "fb261da6",
   "metadata": {},
   "outputs": [
    {
     "data": {
      "text/plain": [
       "'Alagón'"
      ]
     },
     "execution_count": 32,
     "metadata": {},
     "output_type": "execute_result"
    }
   ],
   "source": [
    "diccionario_aula[2]"
   ]
  },
  {
   "cell_type": "code",
   "execution_count": 33,
   "id": "15d61653",
   "metadata": {},
   "outputs": [
    {
     "data": {
      "text/plain": [
       "'Bravo'"
      ]
     },
     "execution_count": 33,
     "metadata": {},
     "output_type": "execute_result"
    }
   ],
   "source": [
    "diccionario_aula[\"1\"]"
   ]
  },
  {
   "cell_type": "code",
   "execution_count": 34,
   "id": "fc4a2541",
   "metadata": {},
   "outputs": [
    {
     "data": {
      "text/plain": [
       "'Chávez'"
      ]
     },
     "execution_count": 34,
     "metadata": {},
     "output_type": "execute_result"
    }
   ],
   "source": [
    "diccionario_aula[\"dos\"]"
   ]
  },
  {
   "cell_type": "code",
   "execution_count": 35,
   "id": "ff22566d",
   "metadata": {},
   "outputs": [
    {
     "data": {
      "text/plain": [
       "{2: 'Alagón',\n",
       " '1': 'Bravo',\n",
       " 'dos': 'Chávez',\n",
       " '3': 'Palomino',\n",
       " '0': 'Silvestre',\n",
       " '20': 'Vilca'}"
      ]
     },
     "execution_count": 35,
     "metadata": {},
     "output_type": "execute_result"
    }
   ],
   "source": [
    "# Para añadir un par de elementos al diccionario, hacemos:\n",
    "\n",
    "diccionario_aula[\"20\"] = \"Vilca\"\n",
    "\n",
    "diccionario_aula"
   ]
  },
  {
   "cell_type": "code",
   "execution_count": 37,
   "id": "2d2b7045",
   "metadata": {},
   "outputs": [
    {
     "data": {
      "text/plain": [
       "{2: 'Alagón', '1': 'Bravo', '3': 'Palomino', '0': 'Silvestre', '20': 'Vilca'}"
      ]
     },
     "execution_count": 37,
     "metadata": {},
     "output_type": "execute_result"
    }
   ],
   "source": [
    "# Para eliminar un valor se utiliza .pop()\n",
    "# Ejemplo: eliminar el elemento de índice \"dos\"\n",
    "\n",
    "diccionario_aula.pop(\"dos\")\n",
    "\n",
    "diccionario_aula"
   ]
  },
  {
   "cell_type": "code",
   "execution_count": 38,
   "id": "8257c9ab",
   "metadata": {},
   "outputs": [
    {
     "data": {
      "text/plain": [
       "{'1': 'Bravo', '3': 'Palomino', '0': 'Silvestre', '20': 'Vilca'}"
      ]
     },
     "execution_count": 38,
     "metadata": {},
     "output_type": "execute_result"
    }
   ],
   "source": [
    "# También podemos eliminar utilizando .del()\n",
    "\n",
    "del(diccionario_aula[2])\n",
    "\n",
    "diccionario_aula"
   ]
  },
  {
   "cell_type": "code",
   "execution_count": 39,
   "id": "8d9d7d5d",
   "metadata": {},
   "outputs": [
    {
     "name": "stdout",
     "output_type": "stream",
     "text": [
      "1\n",
      "3\n",
      "0\n",
      "20\n"
     ]
    }
   ],
   "source": [
    "# Para recorrer nuestro diccinario podemos utilizar una estructura for:\n",
    "# Ejemplo: devuelve los índices\n",
    "\n",
    "for indice in diccionario_aula:\n",
    "    print(indice)\n"
   ]
  },
  {
   "cell_type": "code",
   "execution_count": 46,
   "id": "7f8cf9d1",
   "metadata": {},
   "outputs": [
    {
     "name": "stdout",
     "output_type": "stream",
     "text": [
      "Digite el apellido del estudiante que desea buscar en la lista: HUERTAS\n",
      "El estudiante HUERTAS no se encuentra en la lista\n"
     ]
    }
   ],
   "source": [
    "# 1.5 Ejercicio:\n",
    "# Dado una lista de [ALAGON, ARONES, BRAVO, CABEZAS,CAMAN, CAMARENA, CASAS,CORRALES, DE LA CRUZ, ESCOBAR, FELIX, FERNANDEZ, GARCIA, HUANUCO, NANQUEN, NAVARRO, PARILLO, QUISPE, SAIRA, SERNA, SILVESTRE,TOMASTO, UÑAPILLCO, VARGAS, VENTOCILLA,VENTURI, WONG, ZEVALLOS]\n",
    "# Diseñar un código que muestre si el apellido de un estudiante (Ingresado por el teclado) forma parte de la lista\n",
    "# tiempo: 12 minutos\n",
    "\n",
    "lista_estudiantes = [\"ALAGON\", \"ARONES\", \"BRAVO\", \"CABEZAS\", \"CAMAN\", \"CAMARENA\", \"CASAS\", \"CORRALES\", \"DE LA CRUZ\", \"ESCOBAR\", \"FELIX\", \"FERNANDEZ\", \"GARCIA\", \"HUANUCO\", \"NANQUEN\", \"NAVARRO\", \"PARILLO\", \"QUISPE\", \"SAIRA\", \"SERNA\", \"SILVESTRE\", \"TOMASTO\", \"UÑAPILLCO\", \"VARGAS\", \"VENTOCILLA\", \"VENTURI\", \"WONG\", \"ZEVALLOS\"]\n",
    "\n",
    "estudiante = input(\"Digite el apellido del estudiante que desea buscar en la lista: \")\n",
    "estudiante = estudiante.upper()\n",
    "\n",
    "if estudiante in lista_estudiantes:\n",
    "    print(f\"El estudiante {estudiante} sí se encuentra en la lista\")\n",
    "else:\n",
    "    print(f\"El estudiante {estudiante} no se encuentra en la lista\")\n"
   ]
  }
 ],
 "metadata": {
  "kernelspec": {
   "display_name": "Python 3 (ipykernel)",
   "language": "python",
   "name": "python3"
  },
  "language_info": {
   "codemirror_mode": {
    "name": "ipython",
    "version": 3
   },
   "file_extension": ".py",
   "mimetype": "text/x-python",
   "name": "python",
   "nbconvert_exporter": "python",
   "pygments_lexer": "ipython3",
   "version": "3.9.12"
  }
 },
 "nbformat": 4,
 "nbformat_minor": 5
}
